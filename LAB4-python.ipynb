{
 "cells": [
  {
   "cell_type": "markdown",
   "id": "4bdbc886",
   "metadata": {},
   "source": [
    "Write a program that do the following :-\n",
    "1. Ask the user to enter his name.\n",
    "2. Ask the user to enter his age.\n",
    "3. If his age is between 0 and 6, then print \"Kid\"\n",
    "4. Else if his age is under 0, then print \"Wrong age value, you can not enter value 0 or less.\"\n",
    "5. Else if the age is greater than 6, do the following :-\n",
    "    - An empty variable called total_cost with initial value 0.\n",
    "    - Ask him to enter the number of items that he wants to buy.\n",
    "    - for each item, do the following :-\n",
    "        - Ask him to enter the item name.\n",
    "        - Ask him to enter the item price.\n",
    "        - Ask him to enter the item quantity.\n",
    "        - You need to calculate the item total cost by multiplying the quantity by the price and name it as item_cost.\n",
    "        - Then, you need to update the total_cost variable by adding the value of item_cost.\n",
    "        - Print the item_cost and the total_cost.\n",
    "    - Now, if the total_cost is greater than 200, make a discount by 20% for this special customer!!\n",
    "6. Do not forget to handle any unexpected inputs from the users (Just cast the input values and catch the errors!!).\n",
    "7. Finally, ask the user if he want to repeat the same process from step 1 until 6 or not, Use the loops, but one of them ;)\n",
    "    - Note : The ask is after catching the errors.\n"
   ]
  },
  {
   "cell_type": "code",
   "execution_count": 63,
   "id": "8036bb1e",
   "metadata": {},
   "outputs": [
    {
     "name": "stdout",
     "output_type": "stream",
     "text": [
      "Please enter your name: H\n",
      "Please enter your age: 3\n",
      "Kid\n",
      "Do you want to repeat the process? (yes/no): no\n",
      "Exit\n"
     ]
    }
   ],
   "source": [
    "while True:\n",
    "    try:\n",
    "        name = input(\"Please enter your name: \")\n",
    "        age = input(\"Please enter your age: \")\n",
    "        age = int(age)\n",
    "        \n",
    "        if age <= 6:\n",
    "            print(\"Kid\")\n",
    "        elif age < 0:\n",
    "            print(\"Wrong age value, you can not enter value 0 or less.\")\n",
    "        else:\n",
    "            total_cost = 0\n",
    "            items = input(\"Enter the number of items you want to buy: \")\n",
    "            items = int(items)\n",
    "            \n",
    "            for i in range(items):\n",
    "                itemName = input(\"Enter the item name: \")\n",
    "                itemPrice = float(input(\"Enter the item price: \"))\n",
    "                itemQuantity = int(input(\"Enter the item quantity: \"))\n",
    "\n",
    "                item_cost = itemPrice * itemQuantity\n",
    "                total_cost += item_cost\n",
    "                print(\"Item cost:\", item_cost)\n",
    "                print(\"Total cost:\", total_cost)\n",
    "\n",
    "            if total_cost > 200:\n",
    "                total_cost *= 0.8\n",
    "                print(\"Your total cost after applying 20% discount is:\", total_cost)\n",
    "\n",
    "        repeat = input(\"Do you want to repeat the process? (yes/no): \")\n",
    "        if repeat.lower() != \"yes\":\n",
    "            break\n",
    "\n",
    "    except ValueError:\n",
    "        print(\"Invalid input. Please enter a valid value.\")\n",
    "\n",
    "\n",
    "print(\"Exit\")"
   ]
  },
  {
   "cell_type": "code",
   "execution_count": null,
   "id": "d59b9288",
   "metadata": {},
   "outputs": [],
   "source": []
  }
 ],
 "metadata": {
  "kernelspec": {
   "display_name": "Python 3 (ipykernel)",
   "language": "python",
   "name": "python3"
  },
  "language_info": {
   "codemirror_mode": {
    "name": "ipython",
    "version": 3
   },
   "file_extension": ".py",
   "mimetype": "text/x-python",
   "name": "python",
   "nbconvert_exporter": "python",
   "pygments_lexer": "ipython3",
   "version": "3.11.5"
  }
 },
 "nbformat": 4,
 "nbformat_minor": 5
}
